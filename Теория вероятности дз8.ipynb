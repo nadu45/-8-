{
 "cells": [
  {
   "cell_type": "markdown",
   "id": "57e55fea-42a2-47fe-90d0-d1c7d62d7c4e",
   "metadata": {},
   "source": [
    "Задание 1\n",
    "Провести дисперсионный анализ для определения того, есть ли различия среднего роста среди взрослых футболистов, хоккеистов и штангистов. Даны значения роста в трех группах случайно выбранных спортсменов: Футболисты: 173, 175, 180, 178, 177, 185, 183, 182. Хоккеисты: 177, 179, 180, 188, 177, 172, 171, 184, 180. Штангисты: 172, 173, 169, 177, 166, 180, 178, 177, 172, 166, 170. alpha = 0.05."
   ]
  },
  {
   "cell_type": "code",
   "execution_count": 1,
   "id": "0e30d084-fcb3-4a49-b8b9-a3a16314d19b",
   "metadata": {},
   "outputs": [],
   "source": [
    "import numpy as np     "
   ]
  },
  {
   "cell_type": "code",
   "execution_count": 2,
   "id": "f17ac9c0-9b48-4deb-bf97-942a22fed862",
   "metadata": {},
   "outputs": [
    {
     "name": "stdout",
     "output_type": "stream",
     "text": [
      "28\n"
     ]
    }
   ],
   "source": [
    "n1 = 8\n",
    "n2 = 9\n",
    "n3 = 11\n",
    "n = n1 + n2 + n3\n",
    "print(n)"
   ]
  },
  {
   "cell_type": "markdown",
   "id": "7a10dcbd-2d0d-4374-8c93-cc373b0cde3f",
   "metadata": {},
   "source": [
    "Всего три группы:"
   ]
  },
  {
   "cell_type": "code",
   "execution_count": 3,
   "id": "e1b2b87c-457c-4132-a3f7-36c316a381f0",
   "metadata": {},
   "outputs": [],
   "source": [
    "k = 3"
   ]
  },
  {
   "cell_type": "markdown",
   "id": "2280cdac-b4e8-483d-bcc8-56b64a9ebe68",
   "metadata": {},
   "source": [
    "рост футболистов"
   ]
  },
  {
   "cell_type": "code",
   "execution_count": 4,
   "id": "9b4de714-d7cc-4314-ac5a-a7420248039b",
   "metadata": {},
   "outputs": [],
   "source": [
    "y1 = np.array([173, 175, 180, 178, 177, 185, 183, 182], dtype=np.float64)\n",
    "     "
   ]
  },
  {
   "cell_type": "markdown",
   "id": "d5f223c7-5744-4146-84dd-037618450723",
   "metadata": {},
   "source": [
    "Рост хокеистов"
   ]
  },
  {
   "cell_type": "code",
   "execution_count": 5,
   "id": "12536fdd-20bb-4525-99e5-b12ec21ff6f4",
   "metadata": {},
   "outputs": [],
   "source": [
    "y2 = np.array([177, 179, 180, 188, 177, 172, 171, 184, 180], dtype=np.float64)"
   ]
  },
  {
   "cell_type": "markdown",
   "id": "bc0d0fe1-ef2f-4310-b49e-1341e53b3574",
   "metadata": {},
   "source": [
    "Рост штангистов"
   ]
  },
  {
   "cell_type": "code",
   "execution_count": 6,
   "id": "4e3fcabd-8270-4a7b-9b5e-e864c3895352",
   "metadata": {},
   "outputs": [],
   "source": [
    "y3 = np.array([172, 173, 169, 177, 166, 180, 178, 177, 172, 166, 170], dtype=np.float64)"
   ]
  },
  {
   "cell_type": "markdown",
   "id": "6036dc2f-8906-42a9-93d1-c179af6682c9",
   "metadata": {},
   "source": [
    "Проведем однофакторный дисперсионный анализ. Сначала найдем средний рост для каждой профессии:"
   ]
  },
  {
   "cell_type": "code",
   "execution_count": 7,
   "id": "bc9ce3c7-88a1-4973-95c2-855d453f45e0",
   "metadata": {},
   "outputs": [
    {
     "name": "stdout",
     "output_type": "stream",
     "text": [
      "179.125\n"
     ]
    }
   ],
   "source": [
    "y1_mean = np.mean(y1)\n",
    "print(y1_mean)\n",
    "     "
   ]
  },
  {
   "cell_type": "code",
   "execution_count": 8,
   "id": "5c7cb61a-c47d-46ae-abed-54ba5766954e",
   "metadata": {},
   "outputs": [
    {
     "name": "stdout",
     "output_type": "stream",
     "text": [
      "178.66666666666666\n"
     ]
    }
   ],
   "source": [
    "y2_mean = np.mean(y2)\n",
    "print(y2_mean)"
   ]
  },
  {
   "cell_type": "code",
   "execution_count": 9,
   "id": "2f6164c9-3d5a-4020-8f50-26516fe1a7bd",
   "metadata": {},
   "outputs": [
    {
     "name": "stdout",
     "output_type": "stream",
     "text": [
      "172.72727272727272\n"
     ]
    }
   ],
   "source": [
    "y3_mean = np.mean(y3)\n",
    "print(y3_mean)"
   ]
  },
  {
   "cell_type": "markdown",
   "id": "759a4cff-9c69-4e57-8188-da87001937f8",
   "metadata": {},
   "source": [
    "Видно, что средний рост разнятся. Установим, что это отличие статистически значимо. Для этого сначала соберем в один массив"
   ]
  },
  {
   "cell_type": "code",
   "execution_count": 10,
   "id": "d088c8bc-ee53-4ce3-bb71-905fb6b896ca",
   "metadata": {},
   "outputs": [
    {
     "data": {
      "text/plain": [
       "array([173., 175., 180., 178., 177., 185., 183., 182., 177., 179., 180.,\n",
       "       188., 177., 172., 171., 184., 180., 172., 173., 169., 177., 166.,\n",
       "       180., 178., 177., 172., 166., 170.])"
      ]
     },
     "execution_count": 10,
     "metadata": {},
     "output_type": "execute_result"
    }
   ],
   "source": [
    "y_all = np.concatenate([y1, y2, y3])\n",
    "y_all"
   ]
  },
  {
   "cell_type": "markdown",
   "id": "ad93a262-cc2c-4c84-b3b6-17701c3f181b",
   "metadata": {},
   "source": [
    "Найдем среднее значение роста по всем значениям:"
   ]
  },
  {
   "cell_type": "code",
   "execution_count": 11,
   "id": "540ddf71-210e-42ff-99f6-34d9e34eda6a",
   "metadata": {},
   "outputs": [
    {
     "name": "stdout",
     "output_type": "stream",
     "text": [
      "176.46428571428572\n"
     ]
    }
   ],
   "source": [
    "y_mean = np.mean(y_all)\n",
    "print(y_mean)"
   ]
  },
  {
   "cell_type": "markdown",
   "id": "09ce803e-88e0-44ae-8695-81c6dbc8b791",
   "metadata": {},
   "source": [
    "Найдем \n",
    " S**2— сумму квадратов отклонений наблюдений от общего среднего:"
   ]
  },
  {
   "cell_type": "code",
   "execution_count": 12,
   "id": "ebe69f71-4916-4116-8369-b86830bdab1c",
   "metadata": {},
   "outputs": [
    {
     "data": {
      "text/plain": [
       "830.9642857142854"
      ]
     },
     "execution_count": 12,
     "metadata": {},
     "output_type": "execute_result"
    }
   ],
   "source": [
    "s2 = np.sum((y_all - y_mean)**2)\n",
    "s2"
   ]
  },
  {
   "cell_type": "markdown",
   "id": "9af8af04-f3ef-4b16-82dd-dc6c25696cdf",
   "metadata": {},
   "source": [
    "Найдем \n",
    " S**2F- сумму квадратов отклонений средних групповых значений от общего среднего:"
   ]
  },
  {
   "cell_type": "code",
   "execution_count": 13,
   "id": "1f9cc44a-76f7-408b-958f-eb0c9e83f7d7",
   "metadata": {},
   "outputs": [
    {
     "data": {
      "text/plain": [
       "253.9074675324678"
      ]
     },
     "execution_count": 13,
     "metadata": {},
     "output_type": "execute_result"
    }
   ],
   "source": [
    "s2_f = ((y1_mean - y_mean)**2) * n1 + ((y2_mean - y_mean)**2) * n2 + ((y3_mean - y_mean)**2) * n3\n",
    "s2_f"
   ]
  },
  {
   "cell_type": "markdown",
   "id": "f78d87ff-abf9-41c9-97e1-168a688d1668",
   "metadata": {},
   "source": [
    "Найдем  S2ост  — остаточную сумму квадратов отклонений:"
   ]
  },
  {
   "cell_type": "code",
   "execution_count": 14,
   "id": "50a14dae-31a2-4643-b7e4-23c2113fdb11",
   "metadata": {},
   "outputs": [
    {
     "data": {
      "text/plain": [
       "971.6013450834886"
      ]
     },
     "execution_count": 14,
     "metadata": {},
     "output_type": "execute_result"
    }
   ],
   "source": [
    "S2 = np.sum((y_all - y_mean)**2) - ((y1_mean - y_mean)**2) * n1 + ((y2_mean - y_mean)**2) * n2 + ((y3_mean - y_mean)**2) * n3\n",
    "S2"
   ]
  },
  {
   "cell_type": "markdown",
   "id": "b89147ef-d6df-45ce-b582-0cc54fc96a19",
   "metadata": {},
   "source": [
    "Удостоверимся, что соблюдается равенство $S^2 = S_F^2 + S_{ост}^2$:"
   ]
  },
  {
   "cell_type": "code",
   "execution_count": 15,
   "id": "3773a1af-65b8-483f-ac3c-e180e207e73b",
   "metadata": {},
   "outputs": [
    {
     "name": "stdout",
     "output_type": "stream",
     "text": [
      "830.9642857142854\n",
      "1084.8717532467533\n"
     ]
    }
   ],
   "source": [
    "print(s2)\n",
    "print(s2_f + s2)"
   ]
  },
  {
   "cell_type": "markdown",
   "id": "32801edf-fc97-4337-be9d-bbaff34dc9b0",
   "metadata": {},
   "source": [
    "Найдем общую дисперсию:"
   ]
  },
  {
   "cell_type": "code",
   "execution_count": 16,
   "id": "16894005-c45e-4a64-b75c-49a0016b3f8e",
   "metadata": {},
   "outputs": [
    {
     "data": {
      "text/plain": [
       "30.776455026455015"
      ]
     },
     "execution_count": 16,
     "metadata": {},
     "output_type": "execute_result"
    }
   ],
   "source": [
    "sigma2_general = s2 / (n - 1)\n",
    "sigma2_general"
   ]
  },
  {
   "cell_type": "markdown",
   "id": "b9a467e5-ae03-4ebf-87a5-53a950ad7703",
   "metadata": {},
   "source": [
    "Найдем факторную дисперсию:"
   ]
  },
  {
   "cell_type": "code",
   "execution_count": 17,
   "id": "5bafb4d3-d0ec-4e52-8011-ad8f46709a0b",
   "metadata": {},
   "outputs": [
    {
     "data": {
      "text/plain": [
       "126.9537337662339"
      ]
     },
     "execution_count": 17,
     "metadata": {},
     "output_type": "execute_result"
    }
   ],
   "source": [
    "sigma2_f = s2_f / (k - 1)\n",
    "sigma2_f"
   ]
  },
  {
   "cell_type": "markdown",
   "id": "f77b2da5-38bf-413d-8a5b-662abe03aeaf",
   "metadata": {},
   "source": [
    "Найдем остаточную дисперсию:"
   ]
  },
  {
   "cell_type": "code",
   "execution_count": 18,
   "id": "f50a11a8-ffbc-4374-bee3-dee1017afaf9",
   "metadata": {},
   "outputs": [
    {
     "data": {
      "text/plain": [
       "10.156298701298711"
      ]
     },
     "execution_count": 18,
     "metadata": {},
     "output_type": "execute_result"
    }
   ],
   "source": [
    "sigma2_f = s2_f / (n - k)\n",
    "sigma2_f"
   ]
  },
  {
   "cell_type": "markdown",
   "id": "e7a5b927-fd9c-4a23-a73f-2a30b2a01b60",
   "metadata": {},
   "source": [
    "Вычислим  FH :"
   ]
  },
  {
   "cell_type": "code",
   "execution_count": 20,
   "id": "61784eca-11fe-4dab-b319-138521df0e0d",
   "metadata": {},
   "outputs": [
    {
     "data": {
      "text/plain": [
       "1.0"
      ]
     },
     "execution_count": 20,
     "metadata": {},
     "output_type": "execute_result"
    }
   ],
   "source": [
    "F_h = sigma2_f / sigma2_f\n",
    "F_h"
   ]
  },
  {
   "cell_type": "markdown",
   "id": "e103a5a3-e296-4289-8ecf-393acfca9d77",
   "metadata": {},
   "source": [
    "Найдем значение  Fкрит  в таблице критических точек распределения Фишера-Снедекора для заданного уровня значимости  α=0.05  и двух степеней свободы:\n",
    "\n",
    "dfмежд=k−1=3−1=2  и  dfвнутр=n−k=28−3=25 .\n",
    "\n",
    "Для данных значений Fкрит=3.38. Так как FH<Fкрит, различие среднего роста в трех группах статистически не значимо.\n",
    "\n",
    "Также вычислим эмпирическое корреляционное отношение η2:"
   ]
  },
  {
   "cell_type": "code",
   "execution_count": 35,
   "id": "4f681300-6be6-4011-b252-b9cd13875b5c",
   "metadata": {},
   "outputs": [
    {
     "data": {
      "text/plain": [
       "0.30555761769498"
      ]
     },
     "execution_count": 35,
     "metadata": {},
     "output_type": "execute_result"
    }
   ],
   "source": [
    "eta2 = s2_f / s2\n",
    "eta2\n",
    "     "
   ]
  },
  {
   "cell_type": "markdown",
   "id": "f71f4ba0-c283-457d-bc73-1100aac11154",
   "metadata": {},
   "source": [
    "Значение \n",
    " близко к 0 — значит, различие среднего роста в трех группах является статистически не значимым."
   ]
  },
  {
   "cell_type": "code",
   "execution_count": null,
   "id": "e1db49f0-5bd6-4538-8ca5-755d1c518daa",
   "metadata": {},
   "outputs": [],
   "source": []
  }
 ],
 "metadata": {
  "kernelspec": {
   "display_name": "Python 3 (ipykernel)",
   "language": "python",
   "name": "python3"
  },
  "language_info": {
   "codemirror_mode": {
    "name": "ipython",
    "version": 3
   },
   "file_extension": ".py",
   "mimetype": "text/x-python",
   "name": "python",
   "nbconvert_exporter": "python",
   "pygments_lexer": "ipython3",
   "version": "3.9.12"
  }
 },
 "nbformat": 4,
 "nbformat_minor": 5
}
