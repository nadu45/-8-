{
 "cells": [
  {
   "cell_type": "markdown",
   "id": "7657982b-ecf4-4537-b124-6dafbe05e9d5",
   "metadata": {},
   "source": [
    "Подключаем библиотеки:"
   ]
  },
  {
   "cell_type": "code",
   "execution_count": 1,
   "id": "5684db6b-6444-44a4-ad5d-632e2a05af8c",
   "metadata": {},
   "outputs": [],
   "source": [
    "import numpy as np"
   ]
  },
  {
   "cell_type": "code",
   "execution_count": 2,
   "id": "57e422c8-32be-4f01-a15a-4557aeeed9ac",
   "metadata": {},
   "outputs": [],
   "source": [
    "import scipy.stats as stats"
   ]
  },
  {
   "cell_type": "code",
   "execution_count": 3,
   "id": "da37c478-d22b-4b64-bf67-194cf9b86ea0",
   "metadata": {},
   "outputs": [],
   "source": [
    "from statsmodels.stats.weightstats import _tconfint_generic as t_stat"
   ]
  },
  {
   "cell_type": "code",
   "execution_count": 4,
   "id": "60aa2035-1681-4db0-b8f1-490c11d704cd",
   "metadata": {},
   "outputs": [],
   "source": [
    "from statsmodels.stats.weightstats import _zconfint_generic as z_stat"
   ]
  },
  {
   "cell_type": "markdown",
   "id": "4c1544ce-3442-46c1-87fa-43755404f0e6",
   "metadata": {},
   "source": [
    "Найдем ковариацию двух величин по формулам:"
   ]
  },
  {
   "cell_type": "code",
   "execution_count": 5,
   "id": "ea708c90-f909-4d50-97ec-375ee3c7ad43",
   "metadata": {},
   "outputs": [],
   "source": [
    "zp = np.array([35, 45, 190, 200, 40, 70, 54, 150, 120, 110])\n",
    "ks = np.array([401, 574, 874, 919, 459, 739, 653, 902, 746, 832])"
   ]
  },
  {
   "cell_type": "code",
   "execution_count": 6,
   "id": "639485e5-d6fb-4524-a369-8233d6381251",
   "metadata": {},
   "outputs": [],
   "source": [
    "x_mean = zp.mean()\n",
    "y_mean = ks.mean()\n",
    "xy_mean = (zp * ks).mean()"
   ]
  },
  {
   "cell_type": "code",
   "execution_count": 7,
   "id": "5e8eb8f3-c360-45a6-93cf-0e6e18e1075e",
   "metadata": {},
   "outputs": [
    {
     "data": {
      "text/plain": [
       "9157.839999999997"
      ]
     },
     "execution_count": 7,
     "metadata": {},
     "output_type": "execute_result"
    }
   ],
   "source": [
    "cov_ks = xy_mean - x_mean * y_mean\n",
    "cov_ks"
   ]
  },
  {
   "cell_type": "markdown",
   "id": "fdb34899-9040-404a-aaee-73ccf3167d1d",
   "metadata": {},
   "source": [
    "Найдем коэффициент кореляции Пирсона с помощью ковариации и среднеквадратичных отклонений двух признаков"
   ]
  },
  {
   "cell_type": "code",
   "execution_count": 8,
   "id": "15fdecbd-be9b-4ef3-bf5b-c9269d62581b",
   "metadata": {},
   "outputs": [],
   "source": [
    "x_std = zp.std()\n",
    "y_std = ks.std()"
   ]
  },
  {
   "cell_type": "code",
   "execution_count": 9,
   "id": "e19ae7e2-935f-4639-af38-4161de6eedd2",
   "metadata": {},
   "outputs": [
    {
     "data": {
      "text/plain": [
       "0.8874900920739158"
      ]
     },
     "execution_count": 9,
     "metadata": {},
     "output_type": "execute_result"
    }
   ],
   "source": [
    "corr_ks = cov_ks / (x_std * y_std)\n",
    "corr_ks"
   ]
  },
  {
   "cell_type": "markdown",
   "id": "67fdd5ce-8013-4473-abe8-0f18dc6b6fd4",
   "metadata": {},
   "source": [
    "Найдем Коэффициент кореляции Пирсона с помощью numpy"
   ]
  },
  {
   "cell_type": "code",
   "execution_count": 10,
   "id": "9845b235-f591-43dc-9ec3-8af25ce65b9a",
   "metadata": {},
   "outputs": [
    {
     "data": {
      "text/plain": [
       "array([[1.        , 0.88749009],\n",
       "       [0.88749009, 1.        ]])"
      ]
     },
     "execution_count": 10,
     "metadata": {},
     "output_type": "execute_result"
    }
   ],
   "source": [
    "np.corrcoef(zp, ks)"
   ]
  },
  {
   "cell_type": "markdown",
   "id": "3892276b-a3dc-435e-94ab-70cd03f74fd7",
   "metadata": {},
   "source": [
    "Задание 2"
   ]
  },
  {
   "cell_type": "code",
   "execution_count": 11,
   "id": "ad7ed963-54c9-4233-a3fe-3f769edbfc40",
   "metadata": {},
   "outputs": [],
   "source": [
    "x = np.array([131, 125, 115, 122, 131, 115, 107, 99, 125, 111])\n",
    "x_mean = x.mean()\n",
    "std_x = x.std(ddof=1)\n",
    "x_mean_std = std_x / (np.sqrt(len(x)))"
   ]
  },
  {
   "cell_type": "code",
   "execution_count": 13,
   "id": "383dd4dd-2053-4260-a8fd-1ebb4a27892c",
   "metadata": {},
   "outputs": [
    {
     "data": {
      "text/plain": [
       "(110.55608365158724, 125.64391634841274)"
      ]
     },
     "execution_count": 13,
     "metadata": {},
     "output_type": "execute_result"
    }
   ],
   "source": [
    "t_stat(x_mean, x_mean_std, len(x) - 1, 0.05, 'two-sided')"
   ]
  },
  {
   "cell_type": "markdown",
   "id": "7223d39a-1ec4-4a53-919b-64a13249b99e",
   "metadata": {},
   "source": [
    "Доверительный интервал располагается в диапазоне ( 110.56, 125.64)"
   ]
  },
  {
   "cell_type": "markdown",
   "id": "6d0139c3-ba38-4761-a171-98583b5aaa4e",
   "metadata": {},
   "source": [
    "Задание 3"
   ]
  },
  {
   "cell_type": "code",
   "execution_count": 14,
   "id": "61bd2577-089e-4068-bbc5-55612f0f3513",
   "metadata": {},
   "outputs": [],
   "source": [
    "n = 27\n",
    "x_mean = 174.2\n",
    "x_std = np.sqrt(25)\n",
    "x_mean_std = x_std / np.sqrt(n)"
   ]
  },
  {
   "cell_type": "code",
   "execution_count": 15,
   "id": "d731da61-3223-42dc-a5ff-2c39981e5e56",
   "metadata": {},
   "outputs": [
    {
     "data": {
      "text/plain": [
       "(172.3140237765397, 176.08597622346028)"
      ]
     },
     "execution_count": 15,
     "metadata": {},
     "output_type": "execute_result"
    }
   ],
   "source": [
    "z_stat(x_mean, x_mean_std, 0.05, 'two-sided')"
   ]
  },
  {
   "cell_type": "markdown",
   "id": "6e869266-10ba-4ce2-8b1b-cd758acdf8ec",
   "metadata": {},
   "source": [
    "Доверительный интервал располагается в диапозоне 172.314, 176.085"
   ]
  },
  {
   "cell_type": "code",
   "execution_count": null,
   "id": "0f00dfd4-ba8e-4e9d-aad2-398dbb0d2b02",
   "metadata": {},
   "outputs": [],
   "source": []
  }
 ],
 "metadata": {
  "kernelspec": {
   "display_name": "Python 3 (ipykernel)",
   "language": "python",
   "name": "python3"
  },
  "language_info": {
   "codemirror_mode": {
    "name": "ipython",
    "version": 3
   },
   "file_extension": ".py",
   "mimetype": "text/x-python",
   "name": "python",
   "nbconvert_exporter": "python",
   "pygments_lexer": "ipython3",
   "version": "3.9.12"
  }
 },
 "nbformat": 4,
 "nbformat_minor": 5
}
